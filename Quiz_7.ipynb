{
  "nbformat": 4,
  "nbformat_minor": 0,
  "metadata": {
    "colab": {
      "name": "Copy of Quiz 7.ipynb",
      "version": "0.3.2",
      "provenance": [],
      "collapsed_sections": []
    },
    "kernelspec": {
      "name": "python3",
      "display_name": "Python 3"
    },
    "accelerator": "GPU"
  },
  "cells": [
    {
      "cell_type": "markdown",
      "metadata": {
        "id": "aNyZv-Ec52ot",
        "colab_type": "text"
      },
      "source": [
        "# **Import Libraries and modules**"
      ]
    },
    {
      "cell_type": "code",
      "metadata": {
        "id": "3m3w1Cw49Zkt",
        "colab_type": "code",
        "colab": {
          "base_uri": "https://localhost:8080/",
          "height": 34
        },
        "outputId": "f4b41d75-613e-46e3-ea1c-1da0b289d221"
      },
      "source": [
        "# https://keras.io/\n",
        "!pip install -q keras\n",
        "import keras\n",
        "import datetime\n",
        "print(datetime.datetime.now())"
      ],
      "execution_count": 10,
      "outputs": [
        {
          "output_type": "stream",
          "text": [
            "2019-09-01 01:44:10.357311\n"
          ],
          "name": "stdout"
        }
      ]
    },
    {
      "cell_type": "code",
      "metadata": {
        "id": "Eso6UHE080D4",
        "colab_type": "code",
        "colab": {
          "base_uri": "https://localhost:8080/",
          "height": 34
        },
        "outputId": "731e00af-2ca0-4b75-e8a6-186e0980309b"
      },
      "source": [
        "import numpy as np\n",
        "\n",
        "from keras.models import Sequential\n",
        "from keras.layers import Dense, Dropout, Activation, Flatten, Add\n",
        "from keras.layers import Convolution2D, MaxPooling2D\n",
        "from keras.utils import np_utils\n",
        "\n",
        "from keras.datasets import mnist\n",
        "print(datetime.datetime.now())"
      ],
      "execution_count": 11,
      "outputs": [
        {
          "output_type": "stream",
          "text": [
            "2019-09-01 01:44:11.869291\n"
          ],
          "name": "stdout"
        }
      ]
    },
    {
      "cell_type": "markdown",
      "metadata": {
        "id": "zByEi95J86RD",
        "colab_type": "text"
      },
      "source": [
        "### Load pre-shuffled MNIST data into train and test sets"
      ]
    },
    {
      "cell_type": "code",
      "metadata": {
        "id": "7eRM0QWN83PV",
        "colab_type": "code",
        "colab": {
          "base_uri": "https://localhost:8080/",
          "height": 34
        },
        "outputId": "6bdade92-287a-4325-e100-716d7d29e8c0"
      },
      "source": [
        "(X_train, y_train), (X_test, y_test) = mnist.load_data()\n",
        "print(datetime.datetime.now())"
      ],
      "execution_count": 12,
      "outputs": [
        {
          "output_type": "stream",
          "text": [
            "2019-09-01 01:44:15.951812\n"
          ],
          "name": "stdout"
        }
      ]
    },
    {
      "cell_type": "code",
      "metadata": {
        "id": "4a4Be72j8-ZC",
        "colab_type": "code",
        "colab": {
          "base_uri": "https://localhost:8080/",
          "height": 303
        },
        "outputId": "a9f48d2e-4576-49d3-c9d9-dbf2770f1dd5"
      },
      "source": [
        "print (X_train.shape)\n",
        "from matplotlib import pyplot as plt\n",
        "%matplotlib inline\n",
        "plt.imshow(X_train[0])\n",
        "print(datetime.datetime.now())"
      ],
      "execution_count": 13,
      "outputs": [
        {
          "output_type": "stream",
          "text": [
            "(60000, 28, 28)\n",
            "2019-09-01 01:44:17.729721\n"
          ],
          "name": "stdout"
        },
        {
          "output_type": "display_data",
          "data": {
            "image/png": "[encoded data removed]",
            "text/plain": [
              "<Figure size 432x288 with 1 Axes>"
            ]
          },
          "metadata": {
            "tags": []
          }
        }
      ]
    },
    {
      "cell_type": "code",
      "metadata": {
        "id": "dkmprriw9AnZ",
        "colab_type": "code",
        "colab": {
          "base_uri": "https://localhost:8080/",
          "height": 34
        },
        "outputId": "c213e3a0-615b-443c-dd2a-9d58f72b4506"
      },
      "source": [
        "X_train = X_train.reshape(X_train.shape[0], 28, 28,1)\n",
        "X_test = X_test.reshape(X_test.shape[0], 28, 28,1)\n",
        "print(datetime.datetime.now())"
      ],
      "execution_count": 14,
      "outputs": [
        {
          "output_type": "stream",
          "text": [
            "2019-09-01 01:44:20.059236\n"
          ],
          "name": "stdout"
        }
      ]
    },
    {
      "cell_type": "code",
      "metadata": {
        "id": "X2m4YS4E9CRh",
        "colab_type": "code",
        "colab": {
          "base_uri": "https://localhost:8080/",
          "height": 34
        },
        "outputId": "ab2a53f7-6eea-41f3-a5c7-c6ff72f2a2ae"
      },
      "source": [
        "X_train = X_train.astype('float32')\n",
        "X_test = X_test.astype('float32')\n",
        "X_train /= 255\n",
        "X_test /= 255\n",
        "print(datetime.datetime.now())"
      ],
      "execution_count": 15,
      "outputs": [
        {
          "output_type": "stream",
          "text": [
            "2019-09-01 01:44:21.409809\n"
          ],
          "name": "stdout"
        }
      ]
    },
    {
      "cell_type": "code",
      "metadata": {
        "id": "0Mn0vAYD9DvB",
        "colab_type": "code",
        "colab": {
          "base_uri": "https://localhost:8080/",
          "height": 34
        },
        "outputId": "abdcd372-4b42-4ca9-f9ef-e22d5d4bfc0e"
      },
      "source": [
        "y_train[:10]\n",
        "print(datetime.datetime.now())"
      ],
      "execution_count": 16,
      "outputs": [
        {
          "output_type": "stream",
          "text": [
            "2019-09-01 01:44:23.522248\n"
          ],
          "name": "stdout"
        }
      ]
    },
    {
      "cell_type": "code",
      "metadata": {
        "id": "ZG8JiXR39FHC",
        "colab_type": "code",
        "colab": {}
      },
      "source": [
        "# Convert 1-dimensional class arrays to 10-dimensional class matrices\n",
        "Y_train = np_utils.to_categorical(y_train, 10)\n",
        "Y_test = np_utils.to_categorical(y_test, 10)\n",
        "#print(datetime.datetime.now())"
      ],
      "execution_count": 0,
      "outputs": []
    },
    {
      "cell_type": "code",
      "metadata": {
        "id": "fYlFRvKS9HMB",
        "colab_type": "code",
        "colab": {
          "base_uri": "https://localhost:8080/",
          "height": 187
        },
        "outputId": "b10182ec-f42f-46fa-88b1-2805a037a8e0"
      },
      "source": [
        "Y_train[:10]\n",
        "#print(datetime.datetime.now())"
      ],
      "execution_count": 18,
      "outputs": [
        {
          "output_type": "execute_result",
          "data": {
            "text/plain": [
              "array([[0., 0., 0., 0., 0., 1., 0., 0., 0., 0.],\n",
              "       [1., 0., 0., 0., 0., 0., 0., 0., 0., 0.],\n",
              "       [0., 0., 0., 0., 1., 0., 0., 0., 0., 0.],\n",
              "       [0., 1., 0., 0., 0., 0., 0., 0., 0., 0.],\n",
              "       [0., 0., 0., 0., 0., 0., 0., 0., 0., 1.],\n",
              "       [0., 0., 1., 0., 0., 0., 0., 0., 0., 0.],\n",
              "       [0., 1., 0., 0., 0., 0., 0., 0., 0., 0.],\n",
              "       [0., 0., 0., 1., 0., 0., 0., 0., 0., 0.],\n",
              "       [0., 1., 0., 0., 0., 0., 0., 0., 0., 0.],\n",
              "       [0., 0., 0., 0., 1., 0., 0., 0., 0., 0.]], dtype=float32)"
            ]
          },
          "metadata": {
            "tags": []
          },
          "execution_count": 18
        }
      ]
    },
    {
      "cell_type": "code",
      "metadata": {
        "id": "osKqT73Q9JJB",
        "colab_type": "code",
        "colab": {
          "base_uri": "https://localhost:8080/",
          "height": 629
        },
        "outputId": "84c88224-b101-49dd-b7cc-0e26f8cccd5c"
      },
      "source": [
        "## MAIN BLOCK\n",
        "\n",
        "from keras.layers import Activation,Input\n",
        "from keras.layers.convolutional import Conv2D\n",
        "from keras.layers.pooling import MaxPooling2D\n",
        "from keras.models import Model\n",
        "\n",
        "inp = Input(shape=(28,28,1))\n",
        "x1 = Conv2D(32, kernel_size=3, activation='relu')(inp)\n",
        "x2 = Conv2D(32, kernel_size=3, activation='relu',padding='SAME')(x1)\n",
        "x3 = keras.layers.Add()([x1, x2])\n",
        "x4 = MaxPooling2D(pool_size=(2, 2))(x3)\n",
        "x5 = Conv2D(32, kernel_size=3, activation='relu',padding='SAME')(x4)\n",
        "x6 = keras.layers.Add()([x4, x5])\n",
        "x7 = keras.layers.Add()([x4, x5,x6])\n",
        "x8 = MaxPooling2D(pool_size=(2, 2))(x7)\n",
        "x9 = Conv2D(32, kernel_size=3, activation='relu',padding='SAME')(x8)\n",
        "x10 = keras.layers.Add()([x8, x9])\n",
        "x11 = keras.layers.Add()([x8, x9,x10])\n",
        "x12 = Conv2D(10, kernel_size=6, activation='softmax')(x8)\n",
        "\n",
        "output = Flatten()(x12)\n",
        "\n",
        "model = Model(inputs=inp, outputs=output)\n",
        "\n",
        "print(model.summary())\n",
        "\n",
        "print(datetime.datetime.now())"
      ],
      "execution_count": 50,
      "outputs": [
        {
          "output_type": "stream",
          "text": [
            "Model: \"model_16\"\n",
            "__________________________________________________________________________________________________\n",
            "Layer (type)                    Output Shape         Param #     Connected to                     \n",
            "==================================================================================================\n",
            "input_29 (InputLayer)           (None, 28, 28, 1)    0                                            \n",
            "__________________________________________________________________________________________________\n",
            "conv2d_117 (Conv2D)             (None, 26, 26, 32)   320         input_29[0][0]                   \n",
            "__________________________________________________________________________________________________\n",
            "conv2d_118 (Conv2D)             (None, 26, 26, 32)   9248        conv2d_117[0][0]                 \n",
            "__________________________________________________________________________________________________\n",
            "add_51 (Add)                    (None, 26, 26, 32)   0           conv2d_117[0][0]                 \n",
            "                                                                 conv2d_118[0][0]                 \n",
            "__________________________________________________________________________________________________\n",
            "max_pooling2d_44 (MaxPooling2D) (None, 13, 13, 32)   0           add_51[0][0]                     \n",
            "__________________________________________________________________________________________________\n",
            "conv2d_119 (Conv2D)             (None, 13, 13, 32)   9248        max_pooling2d_44[0][0]           \n",
            "__________________________________________________________________________________________________\n",
            "add_52 (Add)                    (None, 13, 13, 32)   0           max_pooling2d_44[0][0]           \n",
            "                                                                 conv2d_119[0][0]                 \n",
            "__________________________________________________________________________________________________\n",
            "add_53 (Add)                    (None, 13, 13, 32)   0           max_pooling2d_44[0][0]           \n",
            "                                                                 conv2d_119[0][0]                 \n",
            "                                                                 add_52[0][0]                     \n",
            "__________________________________________________________________________________________________\n",
            "max_pooling2d_45 (MaxPooling2D) (None, 6, 6, 32)     0           add_53[0][0]                     \n",
            "__________________________________________________________________________________________________\n",
            "conv2d_121 (Conv2D)             (None, 1, 1, 10)     11530       max_pooling2d_45[0][0]           \n",
            "__________________________________________________________________________________________________\n",
            "flatten_16 (Flatten)            (None, 10)           0           conv2d_121[0][0]                 \n",
            "==================================================================================================\n",
            "Total params: 30,346\n",
            "Trainable params: 30,346\n",
            "Non-trainable params: 0\n",
            "__________________________________________________________________________________________________\n",
            "None\n",
            "2019-09-01 02:21:06.502536\n"
          ],
          "name": "stdout"
        }
      ]
    },
    {
      "cell_type": "code",
      "metadata": {
        "id": "TzdAYg1k9K7Z",
        "colab_type": "code",
        "colab": {
          "base_uri": "https://localhost:8080/",
          "height": 612
        },
        "outputId": "65a17fb0-a881-40e6-cc48-51576ff3c8f6"
      },
      "source": [
        "model.summary()\n",
        "\n",
        "print(datetime.datetime.now())"
      ],
      "execution_count": 51,
      "outputs": [
        {
          "output_type": "stream",
          "text": [
            "Model: \"model_16\"\n",
            "__________________________________________________________________________________________________\n",
            "Layer (type)                    Output Shape         Param #     Connected to                     \n",
            "==================================================================================================\n",
            "input_29 (InputLayer)           (None, 28, 28, 1)    0                                            \n",
            "__________________________________________________________________________________________________\n",
            "conv2d_117 (Conv2D)             (None, 26, 26, 32)   320         input_29[0][0]                   \n",
            "__________________________________________________________________________________________________\n",
            "conv2d_118 (Conv2D)             (None, 26, 26, 32)   9248        conv2d_117[0][0]                 \n",
            "__________________________________________________________________________________________________\n",
            "add_51 (Add)                    (None, 26, 26, 32)   0           conv2d_117[0][0]                 \n",
            "                                                                 conv2d_118[0][0]                 \n",
            "__________________________________________________________________________________________________\n",
            "max_pooling2d_44 (MaxPooling2D) (None, 13, 13, 32)   0           add_51[0][0]                     \n",
            "__________________________________________________________________________________________________\n",
            "conv2d_119 (Conv2D)             (None, 13, 13, 32)   9248        max_pooling2d_44[0][0]           \n",
            "__________________________________________________________________________________________________\n",
            "add_52 (Add)                    (None, 13, 13, 32)   0           max_pooling2d_44[0][0]           \n",
            "                                                                 conv2d_119[0][0]                 \n",
            "__________________________________________________________________________________________________\n",
            "add_53 (Add)                    (None, 13, 13, 32)   0           max_pooling2d_44[0][0]           \n",
            "                                                                 conv2d_119[0][0]                 \n",
            "                                                                 add_52[0][0]                     \n",
            "__________________________________________________________________________________________________\n",
            "max_pooling2d_45 (MaxPooling2D) (None, 6, 6, 32)     0           add_53[0][0]                     \n",
            "__________________________________________________________________________________________________\n",
            "conv2d_121 (Conv2D)             (None, 1, 1, 10)     11530       max_pooling2d_45[0][0]           \n",
            "__________________________________________________________________________________________________\n",
            "flatten_16 (Flatten)            (None, 10)           0           conv2d_121[0][0]                 \n",
            "==================================================================================================\n",
            "Total params: 30,346\n",
            "Trainable params: 30,346\n",
            "Non-trainable params: 0\n",
            "__________________________________________________________________________________________________\n",
            "2019-09-01 02:21:11.452989\n"
          ],
          "name": "stdout"
        }
      ]
    },
    {
      "cell_type": "code",
      "metadata": {
        "id": "Zp6SuGrL9M3h",
        "colab_type": "code",
        "colab": {
          "base_uri": "https://localhost:8080/",
          "height": 122
        },
        "outputId": "fd136e4c-ce3e-4ffc-c42f-e7ef3a57c490"
      },
      "source": [
        "model.compile(loss='categorical_crossentropy',\n",
        "             optimizer='adam',\n",
        "             metrics=['accuracy'])\n",
        "print(datetime.datetime.now())"
      ],
      "execution_count": 52,
      "outputs": [
        {
          "output_type": "stream",
          "text": [
            "W0901 02:21:14.726270 139939316811648 deprecation_wrapper.py:119] From /usr/local/lib/python3.6/dist-packages/keras/optimizers.py:793: The name tf.train.Optimizer is deprecated. Please use tf.compat.v1.train.Optimizer instead.\n",
            "\n",
            "W0901 02:21:14.756100 139939316811648 deprecation_wrapper.py:119] From /usr/local/lib/python3.6/dist-packages/keras/backend/tensorflow_backend.py:3576: The name tf.log is deprecated. Please use tf.math.log instead.\n",
            "\n"
          ],
          "name": "stderr"
        },
        {
          "output_type": "stream",
          "text": [
            "2019-09-01 02:21:14.771183\n"
          ],
          "name": "stdout"
        }
      ]
    },
    {
      "cell_type": "code",
      "metadata": {
        "id": "4xWoKhPY9Of5",
        "colab_type": "code",
        "colab": {
          "base_uri": "https://localhost:8080/",
          "height": 513
        },
        "outputId": "411be7ca-1b39-42f7-8872-ad8210612442"
      },
      "source": [
        "model.fit(X_train, Y_train, batch_size=32, nb_epoch=10, verbose=1)\n",
        "print(datetime.datetime.now())"
      ],
      "execution_count": 53,
      "outputs": [
        {
          "output_type": "stream",
          "text": [
            "/usr/local/lib/python3.6/dist-packages/ipykernel_launcher.py:1: UserWarning: The `nb_epoch` argument in `fit` has been renamed `epochs`.\n",
            "  \"\"\"Entry point for launching an IPython kernel.\n",
            "W0901 02:21:19.434651 139939316811648 deprecation.py:323] From /usr/local/lib/python3.6/dist-packages/tensorflow/python/ops/math_grad.py:1250: add_dispatch_support.<locals>.wrapper (from tensorflow.python.ops.array_ops) is deprecated and will be removed in a future version.\n",
            "Instructions for updating:\n",
            "Use tf.where in 2.0, which has the same broadcast rule as np.where\n",
            "W0901 02:21:19.662904 139939316811648 deprecation_wrapper.py:119] From /usr/local/lib/python3.6/dist-packages/keras/backend/tensorflow_backend.py:1033: The name tf.assign_add is deprecated. Please use tf.compat.v1.assign_add instead.\n",
            "\n"
          ],
          "name": "stderr"
        },
        {
          "output_type": "stream",
          "text": [
            "Epoch 1/10\n",
            "60000/60000 [==============================] - 17s 275us/step - loss: 0.1563 - acc: 0.9513\n",
            "Epoch 2/10\n",
            "60000/60000 [==============================] - 9s 151us/step - loss: 0.0547 - acc: 0.9833\n",
            "Epoch 3/10\n",
            "60000/60000 [==============================] - 9s 149us/step - loss: 0.0417 - acc: 0.9872\n",
            "Epoch 4/10\n",
            "60000/60000 [==============================] - 9s 149us/step - loss: 0.0329 - acc: 0.9896\n",
            "Epoch 5/10\n",
            "60000/60000 [==============================] - 9s 148us/step - loss: 0.0268 - acc: 0.9917\n",
            "Epoch 6/10\n",
            "60000/60000 [==============================] - 9s 149us/step - loss: 0.0223 - acc: 0.9929\n",
            "Epoch 7/10\n",
            "60000/60000 [==============================] - 9s 149us/step - loss: 0.0186 - acc: 0.9936\n",
            "Epoch 8/10\n",
            "60000/60000 [==============================] - 9s 151us/step - loss: 0.0171 - acc: 0.9945\n",
            "Epoch 9/10\n",
            "60000/60000 [==============================] - 9s 152us/step - loss: 0.0135 - acc: 0.9956\n",
            "Epoch 10/10\n",
            "60000/60000 [==============================] - 9s 150us/step - loss: 0.0121 - acc: 0.9959\n",
            "2019-09-01 02:22:57.187261\n"
          ],
          "name": "stdout"
        }
      ]
    },
    {
      "cell_type": "code",
      "metadata": {
        "id": "AtsH-lLk-eLb",
        "colab_type": "code",
        "colab": {
          "base_uri": "https://localhost:8080/",
          "height": 34
        },
        "outputId": "b55102b6-e815-4794-caf5-8ec1ee0560fe"
      },
      "source": [
        "score = model.evaluate(X_test, Y_test, verbose=0)\n",
        "print(datetime.datetime.now())"
      ],
      "execution_count": 54,
      "outputs": [
        {
          "output_type": "stream",
          "text": [
            "2019-09-01 02:22:57.846026\n"
          ],
          "name": "stdout"
        }
      ]
    },
    {
      "cell_type": "code",
      "metadata": {
        "id": "mkX8JMv79q9r",
        "colab_type": "code",
        "colab": {
          "base_uri": "https://localhost:8080/",
          "height": 51
        },
        "outputId": "7048eb9d-3ac4-4ca0-a307-c492d967d9f6"
      },
      "source": [
        "print(score)\n",
        "print(datetime.datetime.now())"
      ],
      "execution_count": 55,
      "outputs": [
        {
          "output_type": "stream",
          "text": [
            "[0.028546976751869714, 0.9921]\n",
            "2019-09-01 02:22:57.854812\n"
          ],
          "name": "stdout"
        }
      ]
    },
    {
      "cell_type": "code",
      "metadata": {
        "id": "-jgu8RYzoIOk",
        "colab_type": "code",
        "colab": {}
      },
      "source": [
        ""
      ],
      "execution_count": 0,
      "outputs": []
    }
  ]
}